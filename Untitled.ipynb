{
 "cells": [
  {
   "cell_type": "code",
   "execution_count": 2,
   "metadata": {},
   "outputs": [],
   "source": [
    "import pandas as pd\n",
    "import numpy as np\n",
    "import matplotlib.pyplot as plt\n",
    "%matplotlib inline"
   ]
  },
  {
   "cell_type": "code",
   "execution_count": 5,
   "metadata": {},
   "outputs": [
    {
     "name": "stdout",
     "output_type": "stream",
     "text": [
      "            Date         Country  Confirmed  Recovered  Deaths    Cases\n",
      "9536  2020-01-22          Canada          0          0       0        0\n",
      "9537  2020-01-23          Canada          0          0       0        0\n",
      "9538  2020-01-24          Canada          0          0       0        0\n",
      "9539  2020-01-25          Canada          0          0       0        0\n",
      "9540  2020-01-26          Canada          1          0       0        1\n",
      "...          ...             ...        ...        ...     ...      ...\n",
      "53933 2020-11-10  United Kingdom    1237198       3008   49861  1290067\n",
      "53934 2020-11-11  United Kingdom    1260198       3018   50457  1313673\n",
      "53935 2020-11-12  United Kingdom    1293715       3031   51020  1347766\n",
      "53936 2020-11-13  United Kingdom    1321031       3089   51396  1375516\n",
      "53937 2020-11-14  United Kingdom    1347907       3108   51858  1402873\n",
      "\n",
      "[1788 rows x 6 columns]\n"
     ]
    }
   ],
   "source": [
    "# Loading and selecting data\n",
    "df = pd.read_csv('https://raw.githubusercontent.com/datasets/covid-19/master/data/countries-aggregated.csv', parse_dates=['Date'])\n",
    "countries = ['Canada', 'Germany', 'United Kingdom', 'US', 'France', 'China']\n",
    "df = df[df['Country'].isin(countries)]\n",
    "df['Cases'] = df[['Confirmed', 'Recovered', 'Deaths']].sum(axis=1)\n",
    "print(df)"
   ]
  },
  {
   "cell_type": "code",
   "execution_count": null,
   "metadata": {},
   "outputs": [],
   "source": []
  }
 ],
 "metadata": {
  "kernelspec": {
   "display_name": "Python 3",
   "language": "python",
   "name": "python3"
  },
  "language_info": {
   "codemirror_mode": {
    "name": "ipython",
    "version": 3
   },
   "file_extension": ".py",
   "mimetype": "text/x-python",
   "name": "python",
   "nbconvert_exporter": "python",
   "pygments_lexer": "ipython3",
   "version": "3.9.0"
  }
 },
 "nbformat": 4,
 "nbformat_minor": 4
}
